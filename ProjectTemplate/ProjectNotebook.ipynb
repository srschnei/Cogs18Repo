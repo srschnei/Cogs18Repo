{
 "cells": [
  {
   "cell_type": "markdown",
   "metadata": {},
   "source": [
    "# Project Description"
   ]
  },
  {
   "cell_type": "markdown",
   "metadata": {},
   "source": [
    "##### This chat bot, CatBot, has a purpose of providing fun, factual knowledge (and cat-like jargon) towards the chat user. As notated within the facts provided when asking questions (in the who, what, where, when, and why categories), cats are interesting and prevelant creatures within the scope of history. This CatBot is interested in providing this information, with the assumption that whoever conversates with it has an interest (or potential future interest) in cats. Still, CatBot can get rather moody, depending on what topic is brought up. Have fun and be sure to provide digital pets!"
   ]
  },
  {
   "cell_type": "markdown",
   "metadata": {},
   "source": [
    "## Project Code"
   ]
  },
  {
   "cell_type": "code",
   "execution_count": 7,
   "metadata": {},
   "outputs": [],
   "source": [
    "from my_module.functions import GREETINGS_IN, GREETINGS_OUT, distinguished_cats_in, distinguished_cats_out, fun_in, fun_out, nope_in, nope_out, UNKNOWN, QUESTION, is_question, remove_punctuation, prepare_text, selector, dogmode, what_fact, who_fact, where_fact, why_fact, when_fact, end_chat, cat_bot\n"
   ]
  },
  {
   "cell_type": "code",
   "execution_count": 8,
   "metadata": {},
   "outputs": [],
   "source": [
    "import string\n",
    "import random\n"
   ]
  },
  {
   "cell_type": "code",
   "execution_count": 11,
   "metadata": {},
   "outputs": [
    {
     "name": "stdout",
     "output_type": "stream",
     "text": [
      "Meow! I am a claw-ver cat bot! Give me your pets and your food or else!!!!!.....          \n",
      "I only answer to regular english human speech.          \n",
      "Say: 'bye' to quit, 'dog' for dogmode,          \n",
      "Ask me who/what/where/when/why questions for random cat facts!\n",
      "ME: hi\n",
      "CatBot: *Nuzzles leg*\n",
      "ME: hi\n",
      "CatBot: *Swats at air*\n",
      "ME: hi\n",
      "CatBot: *Chases tail*\n",
      "ME: hi\n",
      "CatBot: Meow\n",
      "ME: hi\n",
      "CatBot: *yaaaawn*\n",
      "ME: hi\n",
      "CatBot: *Swats at air*\n",
      "ME: what?\n",
      "CatBot: A cat's brain is 90% similar to a human's — more similar than to a dog's.\n",
      "ME: what?\n",
      "CatBot: Cats have over 20 muscles that control their ears.\n",
      "ME: what?\n",
      "CatBot: Cats can't taste sweetness.\n",
      "ME: what?\n",
      "CatBot: Cats can't taste sweetness.\n",
      "ME: who?\n",
      "CatBot: A cat has been mayor of Talkeetna, Alaska, for 15 years. His name is Stubbs.\n",
      "ME: who?\n",
      "CatBot: The world's richest cat is worth $13 million after his human passed away and left her fortune to him.\n",
      "ME: where?\n",
      "CatBot: There are 45 Hemingway cats living at the author's former home in Key West, Fla. Polydactyl cats are also referred to as 'Hemingway cats' because the author was so fond of them.\n",
      "ME: where?\n",
      "CatBot: There are 45 Hemingway cats living at the author's former home in Key West, Fla. Polydactyl cats are also referred to as 'Hemingway cats' because the author was so fond of them.\n",
      "ME: where?\n",
      "CatBot: The first cat in space was French. She was named Felicette, or \"Astrocat.\" She survived the trip.\n",
      "ME: when?\n",
      "CatBot: In the 1960s, the CIA tried to turn a cat into a bonafide spy by implanting a microphone into her ear and a radio transmitter at the base of her skull. She somehow survived the surgery but got hit by a taxi on her first mission.\n",
      "ME: when?\n",
      "CatBot: Evidence suggests domesticated cats have been around since 3600 B.C., 2,000 years before Egypt's pharaohs.\n",
      "ME: why?\n",
      "CatBot: Cat owners who are male tend to be luckier in love, as they are perceived as more sensitive.\n",
      "ME: why?\n",
      "CatBot: The frequency of a domestic cat's purr is the same at which muscles and bones repair themselves.\n",
      "ME: why?\n",
      "CatBot: The frequency of a domestic cat's purr is the same at which muscles and bones repair themselves.\n",
      "ME: why?\n",
      "CatBot: The frequency of a domestic cat's purr is the same at which muscles and bones repair themselves.\n",
      "ME: why?\n",
      "CatBot: The frequency of a domestic cat's purr is the same at which muscles and bones repair themselves.\n",
      "ME: why?\n",
      "CatBot: The frequency of a domestic cat's purr is the same at which muscles and bones repair themselves.\n",
      "ME: why?\n",
      "CatBot: Cat owners who are male tend to be luckier in love, as they are perceived as more sensitive.\n",
      "ME: why?\n",
      "CatBot: Cat owners who are male tend to be luckier in love, as they are perceived as more sensitive.\n",
      "ME: why?\n",
      "CatBot: Owning a cat can reduce the risk of stroke and heart attack by a third.\n",
      "ME: why?\n",
      "CatBot: Cat owners are 17% more likely to have a graduate degree.\n",
      "ME: dog\n",
      "CatBot: *pant pant* \n",
      "ME: dog\n",
      "CatBot: woof \n",
      "ME: dog\n",
      "CatBot: bark \n",
      "ME: enemy\n",
      "CatBot: *runs away*\n",
      "ME: bye\n",
      "CatBot: Goodbye!             \n",
      "If you want to adopt a cat, you can visit your local             \n",
      "Humane Society or check out petfinder.com.             \n",
      "Cat facts provided by Buzzfeed.\n"
     ]
    }
   ],
   "source": [
    "cat_bot()"
   ]
  },
  {
   "cell_type": "code",
   "execution_count": null,
   "metadata": {},
   "outputs": [],
   "source": []
  }
 ],
 "metadata": {
  "kernelspec": {
   "display_name": "Python 3",
   "language": "python",
   "name": "python3"
  },
  "language_info": {
   "codemirror_mode": {
    "name": "ipython",
    "version": 3
   },
   "file_extension": ".py",
   "mimetype": "text/x-python",
   "name": "python",
   "nbconvert_exporter": "python",
   "pygments_lexer": "ipython3",
   "version": "3.7.1"
  }
 },
 "nbformat": 4,
 "nbformat_minor": 2
}
